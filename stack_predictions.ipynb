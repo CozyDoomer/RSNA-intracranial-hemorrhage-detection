{
 "cells": [
  {
   "cell_type": "code",
   "execution_count": 64,
   "metadata": {
    "_cell_guid": "28a96b13-fb54-43af-aeb9-ccb40526ec1f",
    "_uuid": "518b490c58f98a59d25d8d5d8c39dca0673564e1"
   },
   "outputs": [],
   "source": [
    "import os\n",
    "import numpy as np \n",
    "import pandas as pd \n",
    "from subprocess import check_output\n",
    "import matplotlib.pyplot as plt"
   ]
  },
  {
   "cell_type": "markdown",
   "metadata": {
    "_cell_guid": "1840df41-7524-4305-93d9-423a2a6fe5bd",
    "_uuid": "aae1d396e2fad44a15fcb8e970c5affa8fb6ddc6"
   },
   "source": [
    "# Data Load"
   ]
  },
  {
   "cell_type": "code",
   "execution_count": 65,
   "metadata": {
    "_kg_hide-output": true
   },
   "outputs": [
    {
     "data": {
      "text/plain": [
       "['leaderboard_subs_mean.csv',\n",
       " 'leaderboard_subs_median.csv',\n",
       " 'leaderboard_weighted_average.csv',\n",
       " 'leaderboard_weighted_average2.csv',\n",
       " 'submission_efficient_net.csv',\n",
       " 'submission_inceptionv3.csv',\n",
       " 'submission_original.csv']"
      ]
     },
     "execution_count": 65,
     "metadata": {},
     "output_type": "execute_result"
    }
   ],
   "source": [
    "sub_path = \"data/submissions\"\n",
    "all_files = os.listdir(sub_path)\n",
    "all_files"
   ]
  },
  {
   "cell_type": "code",
   "execution_count": 66,
   "metadata": {},
   "outputs": [],
   "source": [
    "selected_files = ['submission_efficient_net.csv',\n",
    "                  'submission_inceptionv3.csv',\n",
    "                  'submission_original.csv']"
   ]
  },
  {
   "cell_type": "code",
   "execution_count": 67,
   "metadata": {
    "_cell_guid": "c978c838-8a87-45ef-a118-b6bd565bdb2e",
    "_uuid": "1fa9dd2434873dc5bc918b102a3a69649d0f35c7"
   },
   "outputs": [
    {
     "data": {
      "text/html": [
       "<div>\n",
       "<style scoped>\n",
       "    .dataframe tbody tr th:only-of-type {\n",
       "        vertical-align: middle;\n",
       "    }\n",
       "\n",
       "    .dataframe tbody tr th {\n",
       "        vertical-align: top;\n",
       "    }\n",
       "\n",
       "    .dataframe thead th {\n",
       "        text-align: right;\n",
       "    }\n",
       "</style>\n",
       "<table border=\"1\" class=\"dataframe\">\n",
       "  <thead>\n",
       "    <tr style=\"text-align: right;\">\n",
       "      <th></th>\n",
       "      <th>ID</th>\n",
       "      <th>rnsa0</th>\n",
       "      <th>rnsa1</th>\n",
       "    </tr>\n",
       "  </thead>\n",
       "  <tbody>\n",
       "    <tr>\n",
       "      <th>0</th>\n",
       "      <td>ID_000012eaf_any</td>\n",
       "      <td>0.126943</td>\n",
       "      <td>0.071976</td>\n",
       "    </tr>\n",
       "    <tr>\n",
       "      <th>1</th>\n",
       "      <td>ID_000012eaf_epidural</td>\n",
       "      <td>0.003692</td>\n",
       "      <td>0.001348</td>\n",
       "    </tr>\n",
       "    <tr>\n",
       "      <th>2</th>\n",
       "      <td>ID_000012eaf_intraparenchymal</td>\n",
       "      <td>0.015590</td>\n",
       "      <td>0.023166</td>\n",
       "    </tr>\n",
       "    <tr>\n",
       "      <th>3</th>\n",
       "      <td>ID_000012eaf_intraventricular</td>\n",
       "      <td>0.004170</td>\n",
       "      <td>0.005164</td>\n",
       "    </tr>\n",
       "    <tr>\n",
       "      <th>4</th>\n",
       "      <td>ID_000012eaf_subarachnoid</td>\n",
       "      <td>0.010137</td>\n",
       "      <td>0.011681</td>\n",
       "    </tr>\n",
       "  </tbody>\n",
       "</table>\n",
       "</div>"
      ],
      "text/plain": [
       "                              ID     rnsa0     rnsa1\n",
       "0               ID_000012eaf_any  0.126943  0.071976\n",
       "1          ID_000012eaf_epidural  0.003692  0.001348\n",
       "2  ID_000012eaf_intraparenchymal  0.015590  0.023166\n",
       "3  ID_000012eaf_intraventricular  0.004170  0.005164\n",
       "4      ID_000012eaf_subarachnoid  0.010137  0.011681"
      ]
     },
     "execution_count": 67,
     "metadata": {},
     "output_type": "execute_result"
    }
   ],
   "source": [
    "# Read and concatenate submissions\n",
    "outs = [pd.read_csv(os.path.join(sub_path, f), index_col=0) for f in selected_files]\n",
    "concat_sub = pd.concat(outs, axis=1)\n",
    "cols = list(map(lambda x: \"rnsa\" + str(x), range(len(concat_sub.columns))))\n",
    "concat_sub.columns = cols\n",
    "concat_sub.reset_index(inplace=True)\n",
    "ncol = concat_sub.shape[1]\n",
    "concat_sub.head()"
   ]
  },
  {
   "cell_type": "code",
   "execution_count": 68,
   "metadata": {
    "_cell_guid": "a193cac9-e544-4749-8622-2c0a7d882193",
    "_uuid": "37b39229e34b71032d8d2371c6b731ed452b8eb2"
   },
   "outputs": [
    {
     "data": {
      "text/html": [
       "<div>\n",
       "<style scoped>\n",
       "    .dataframe tbody tr th:only-of-type {\n",
       "        vertical-align: middle;\n",
       "    }\n",
       "\n",
       "    .dataframe tbody tr th {\n",
       "        vertical-align: top;\n",
       "    }\n",
       "\n",
       "    .dataframe thead th {\n",
       "        text-align: right;\n",
       "    }\n",
       "</style>\n",
       "<table border=\"1\" class=\"dataframe\">\n",
       "  <thead>\n",
       "    <tr style=\"text-align: right;\">\n",
       "      <th></th>\n",
       "      <th>rnsa0</th>\n",
       "      <th>rnsa1</th>\n",
       "    </tr>\n",
       "  </thead>\n",
       "  <tbody>\n",
       "    <tr>\n",
       "      <th>rnsa0</th>\n",
       "      <td>1.000000</td>\n",
       "      <td>0.954013</td>\n",
       "    </tr>\n",
       "    <tr>\n",
       "      <th>rnsa1</th>\n",
       "      <td>0.954013</td>\n",
       "      <td>1.000000</td>\n",
       "    </tr>\n",
       "  </tbody>\n",
       "</table>\n",
       "</div>"
      ],
      "text/plain": [
       "          rnsa0     rnsa1\n",
       "rnsa0  1.000000  0.954013\n",
       "rnsa1  0.954013  1.000000"
      ]
     },
     "execution_count": 68,
     "metadata": {},
     "output_type": "execute_result"
    }
   ],
   "source": [
    "# check correlation\n",
    "concat_sub.iloc[:,1:ncol].corr()"
   ]
  },
  {
   "cell_type": "code",
   "execution_count": 69,
   "metadata": {},
   "outputs": [],
   "source": [
    "concat_sub.rename(index=str, columns={\"index\": \"ID\"}, inplace=True)"
   ]
  },
  {
   "cell_type": "code",
   "execution_count": 70,
   "metadata": {
    "_cell_guid": "c7be9be8-b999-42d9-a0cc-6bf2a035b25b",
    "_uuid": "07cdbb447c11008557c1773e464d08f798d8b2b2"
   },
   "outputs": [],
   "source": [
    "# get the data fields ready for stacking\n",
    "concat_sub['rsna_max'] = concat_sub.iloc[:, 1:ncol].max(axis=1)\n",
    "concat_sub['rsna_min'] = concat_sub.iloc[:, 1:ncol].min(axis=1)\n",
    "concat_sub['rsna_mean'] = concat_sub.iloc[:, 1:ncol].mean(axis=1)\n",
    "concat_sub['rsna_median'] = concat_sub.iloc[:, 1:ncol].median(axis=1)"
   ]
  },
  {
   "cell_type": "code",
   "execution_count": 71,
   "metadata": {},
   "outputs": [
    {
     "data": {
      "text/html": [
       "<div>\n",
       "<style scoped>\n",
       "    .dataframe tbody tr th:only-of-type {\n",
       "        vertical-align: middle;\n",
       "    }\n",
       "\n",
       "    .dataframe tbody tr th {\n",
       "        vertical-align: top;\n",
       "    }\n",
       "\n",
       "    .dataframe thead th {\n",
       "        text-align: right;\n",
       "    }\n",
       "</style>\n",
       "<table border=\"1\" class=\"dataframe\">\n",
       "  <thead>\n",
       "    <tr style=\"text-align: right;\">\n",
       "      <th></th>\n",
       "      <th>rnsa0</th>\n",
       "      <th>rnsa1</th>\n",
       "    </tr>\n",
       "  </thead>\n",
       "  <tbody>\n",
       "    <tr>\n",
       "      <th>count</th>\n",
       "      <td>4.712700e+05</td>\n",
       "      <td>471270.000000</td>\n",
       "    </tr>\n",
       "    <tr>\n",
       "      <th>mean</th>\n",
       "      <td>5.670364e-02</td>\n",
       "      <td>0.055517</td>\n",
       "    </tr>\n",
       "    <tr>\n",
       "      <th>std</th>\n",
       "      <td>1.875964e-01</td>\n",
       "      <td>0.180802</td>\n",
       "    </tr>\n",
       "    <tr>\n",
       "      <th>min</th>\n",
       "      <td>4.730527e-10</td>\n",
       "      <td>0.000000</td>\n",
       "    </tr>\n",
       "    <tr>\n",
       "      <th>25%</th>\n",
       "      <td>7.617355e-05</td>\n",
       "      <td>0.000262</td>\n",
       "    </tr>\n",
       "    <tr>\n",
       "      <th>50%</th>\n",
       "      <td>8.544610e-04</td>\n",
       "      <td>0.001766</td>\n",
       "    </tr>\n",
       "    <tr>\n",
       "      <th>75%</th>\n",
       "      <td>8.308892e-03</td>\n",
       "      <td>0.011880</td>\n",
       "    </tr>\n",
       "    <tr>\n",
       "      <th>max</th>\n",
       "      <td>9.997467e-01</td>\n",
       "      <td>0.999984</td>\n",
       "    </tr>\n",
       "  </tbody>\n",
       "</table>\n",
       "</div>"
      ],
      "text/plain": [
       "              rnsa0          rnsa1\n",
       "count  4.712700e+05  471270.000000\n",
       "mean   5.670364e-02       0.055517\n",
       "std    1.875964e-01       0.180802\n",
       "min    4.730527e-10       0.000000\n",
       "25%    7.617355e-05       0.000262\n",
       "50%    8.544610e-04       0.001766\n",
       "75%    8.308892e-03       0.011880\n",
       "max    9.997467e-01       0.999984"
      ]
     },
     "execution_count": 71,
     "metadata": {},
     "output_type": "execute_result"
    }
   ],
   "source": [
    "concat_sub.iloc[:, 1:ncol].describe()"
   ]
  },
  {
   "cell_type": "markdown",
   "metadata": {
    "_cell_guid": "103f2414-04a8-40bd-8ffc-4e77e510e023",
    "_uuid": "d213635b179fc8d07a6985d257c8c3e0007e0f7a"
   },
   "source": [
    "# Median Stacking"
   ]
  },
  {
   "cell_type": "code",
   "execution_count": 45,
   "metadata": {
    "_cell_guid": "9d5af2c0-1cc5-4adc-9153-d20d19c69bd6",
    "_uuid": "76fc5734615b45bf6234df1f450c9a24ca518834"
   },
   "outputs": [],
   "source": [
    "concat_sub['Label'] = concat_sub['rsna_median']\n",
    "concat_sub[['ID', 'Label']].to_csv('data/submissions/leaderboard_subs_median.csv', index=False)"
   ]
  },
  {
   "cell_type": "markdown",
   "metadata": {
    "_cell_guid": "103f2414-04a8-40bd-8ffc-4e77e510e023",
    "_uuid": "d213635b179fc8d07a6985d257c8c3e0007e0f7a"
   },
   "source": [
    "# Mean Stacking"
   ]
  },
  {
   "cell_type": "code",
   "execution_count": 72,
   "metadata": {},
   "outputs": [],
   "source": [
    "concat_sub['Label'] = concat_sub['rsna_mean']\n",
    "concat_sub[['ID', 'Label']].to_csv('data/submissions/leaderboard_subs_mean2.csv', index=False)"
   ]
  },
  {
   "cell_type": "markdown",
   "metadata": {},
   "source": [
    "### Weighted Average"
   ]
  },
  {
   "cell_type": "code",
   "execution_count": 58,
   "metadata": {},
   "outputs": [
    {
     "data": {
      "text/plain": [
       "['submission_efficient_net.csv',\n",
       " 'submission_inceptionv3.csv',\n",
       " 'submission_original.csv']"
      ]
     },
     "execution_count": 58,
     "metadata": {},
     "output_type": "execute_result"
    }
   ],
   "source": [
    "selected_files"
   ]
  },
  {
   "cell_type": "code",
   "execution_count": 59,
   "metadata": {},
   "outputs": [],
   "source": [
    "sub_efficient_net = pd.read_csv(os.path.join(sub_path, selected_files[0]), index_col=0)\n",
    "sub_inceptionv3 = pd.read_csv(os.path.join(sub_path, selected_files[1]), index_col=0)\n",
    "sub_fastai = pd.read_csv(os.path.join(sub_path, selected_files[2]), index_col=0)"
   ]
  },
  {
   "cell_type": "code",
   "execution_count": 60,
   "metadata": {},
   "outputs": [],
   "source": [
    "cc = sub_fastai.copy()"
   ]
  },
  {
   "cell_type": "code",
   "execution_count": 61,
   "metadata": {},
   "outputs": [],
   "source": [
    "cc['Label'] = (0.2*sub_fastai['Label']\n",
    "             + 0.4*sub_inceptionv3['Label']\n",
    "             + 0.4*sub_efficient_net['Label'])"
   ]
  },
  {
   "cell_type": "code",
   "execution_count": 62,
   "metadata": {},
   "outputs": [
    {
     "name": "stdout",
     "output_type": "stream",
     "text": [
      "0.004855821950315385\n",
      "-0.000620620574337892\n",
      "-0.0018072904008283944\n"
     ]
    }
   ],
   "source": [
    "print(cc['Label'].mean()-sub_fastai['Label'].mean())\n",
    "print(cc['Label'].mean()-sub_inceptionv3['Label'].mean())\n",
    "print(cc['Label'].mean()-sub_efficient_net['Label'].mean())"
   ]
  },
  {
   "cell_type": "code",
   "execution_count": 63,
   "metadata": {},
   "outputs": [],
   "source": [
    "cc.to_csv('data/submissions/leaderboard_weighted_average2.csv')"
   ]
  },
  {
   "cell_type": "code",
   "execution_count": 56,
   "metadata": {},
   "outputs": [
    {
     "data": {
      "text/html": [
       "<div>\n",
       "<style scoped>\n",
       "    .dataframe tbody tr th:only-of-type {\n",
       "        vertical-align: middle;\n",
       "    }\n",
       "\n",
       "    .dataframe tbody tr th {\n",
       "        vertical-align: top;\n",
       "    }\n",
       "\n",
       "    .dataframe thead th {\n",
       "        text-align: right;\n",
       "    }\n",
       "</style>\n",
       "<table border=\"1\" class=\"dataframe\">\n",
       "  <thead>\n",
       "    <tr style=\"text-align: right;\">\n",
       "      <th></th>\n",
       "      <th>Label</th>\n",
       "    </tr>\n",
       "    <tr>\n",
       "      <th>ID</th>\n",
       "      <th></th>\n",
       "    </tr>\n",
       "  </thead>\n",
       "  <tbody>\n",
       "    <tr>\n",
       "      <th>ID_e3674b189_any</th>\n",
       "      <td>0.002339</td>\n",
       "    </tr>\n",
       "    <tr>\n",
       "      <th>ID_e3674b189_epidural</th>\n",
       "      <td>0.000028</td>\n",
       "    </tr>\n",
       "    <tr>\n",
       "      <th>ID_e3674b189_intraparenchymal</th>\n",
       "      <td>0.000302</td>\n",
       "    </tr>\n",
       "    <tr>\n",
       "      <th>ID_e3674b189_intraventricular</th>\n",
       "      <td>0.000107</td>\n",
       "    </tr>\n",
       "    <tr>\n",
       "      <th>ID_e3674b189_subarachnoid</th>\n",
       "      <td>0.001340</td>\n",
       "    </tr>\n",
       "  </tbody>\n",
       "</table>\n",
       "</div>"
      ],
      "text/plain": [
       "                                  Label\n",
       "ID                                     \n",
       "ID_e3674b189_any               0.002339\n",
       "ID_e3674b189_epidural          0.000028\n",
       "ID_e3674b189_intraparenchymal  0.000302\n",
       "ID_e3674b189_intraventricular  0.000107\n",
       "ID_e3674b189_subarachnoid      0.001340"
      ]
     },
     "execution_count": 56,
     "metadata": {},
     "output_type": "execute_result"
    }
   ],
   "source": [
    "cc.head()"
   ]
  },
  {
   "cell_type": "code",
   "execution_count": null,
   "metadata": {},
   "outputs": [],
   "source": []
  }
 ],
 "metadata": {
  "kernelspec": {
   "display_name": "Python 3",
   "language": "python",
   "name": "python3"
  },
  "language_info": {
   "codemirror_mode": {
    "name": "ipython",
    "version": 3
   },
   "file_extension": ".py",
   "mimetype": "text/x-python",
   "name": "python",
   "nbconvert_exporter": "python",
   "pygments_lexer": "ipython3",
   "version": "3.6.8"
  }
 },
 "nbformat": 4,
 "nbformat_minor": 1
}
